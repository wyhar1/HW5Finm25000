"""
Market data loader class and methods
"""
import yfinance as yf
import pandas as pd
import pytz
apple = yf.Ticker("aapl")

class MarketDataLoader:
    def __init__(self, interval, period):
        self.interval = interval
        self.period = period
        #Cache..?
        self._period_cahce = {}
        self._range_cache = {}
    
    def _rename_and_tx(df):
        #Handle bad call
        if df.empty:
             return df
        
        #Rename columns
        df = df.rename(columns={
            'Open': 'open',
            'High': 'high',
            'Low': 'low',
            'Close': 'last_price',
            'Volume': 'volume'
        })
    
        if not isinstance(df.index, pd.DatetimeIndex):
                df.index = pd.to_datetime(df.index)
        df.index = df.index.tz_localize(None).tz_localize('UTC')
        return df

    def _load_period(self, symbol):
        data = self._rename_and_tx(yf.download(symbol, period=self.period, interval=self.interval, auto_adjust=True))
        self._period_cache[symbol] = data
        return data
    
    def get_history(self, symbol, start=None, end=None): 
        if start or end:
            data = yf.download(symbol, start=start, end=end, interval=self.interval, auto_adjust=True)
        else:
            data = self._load_period(symbol)
        return data
        


	

