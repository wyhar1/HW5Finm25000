{
 "cells": [
  {
   "cell_type": "code",
   "execution_count": 5,
   "metadata": {},
   "outputs": [],
   "source": [
    "from market_data_loader import MarketDataLoader\n",
    "from order import Order\n",
    "from order import risk_params\n",
    "from oms import OrderManagementSystem\n",
    "from order_book import LimitOrderBook\n",
    "from position_tracker import PositionTracker\n",
    "from strategies.trend_following   import run_backtest as tf_backtest\n",
    "from strategies.mean_reversion    import run_backtest as mr_backtest\n",
    "from strategies.arbitrage         import run_backtest as arb_backtest\n",
    "import uuid\n",
    "\n",
    "loader  = MarketDataLoader(interval=\"5m\", period=\"1mo\")\n",
    "oms     = OrderManagementSystem()\n",
    "tracker = PositionTracker()\n",
    "book    = LimitOrderBook(\"AAPL\")\n",
    "\n",
    "rp = risk_params()"
   ]
  },
  {
   "cell_type": "code",
   "execution_count": 4,
   "metadata": {},
   "outputs": [
    {
     "name": "stderr",
     "output_type": "stream",
     "text": [
      "[*********************100%***********************]  1 of 1 completed\n"
     ]
    }
   ],
   "source": [
    "signals, trades, metrics = tf_backtest(\"AAPL\", loader, risk_params, short_win=10, long_win=50)"
   ]
  },
  {
   "cell_type": "code",
   "execution_count": 11,
   "metadata": {},
   "outputs": [],
   "source": [
    "for trade in trades:\n",
    "    order_data = {\n",
    "            \"id\": trade['order_id'],\n",
    "            \"symbol\": trade[\"symbol\"],\n",
    "            \"side\": trade[\"side\"],\n",
    "            \"quantity\": trade[\"filled_qty\"],  # rename key\n",
    "            \"type\": \"market\",          # or whatever is appropriate\n",
    "            \"price\": trade[\"price\"],\n",
    "            \"timestamp\": trade[\"timestamp\"]\n",
    "        }\n",
    "    order = Order(**order_data)\n",
    "    oms_ack = oms.new_order(order)\n",
    "    exec_reports = book.add_order(order)\n",
    "    for rpt in exec_reports:\n",
    "        tracker.update(rpt)"
   ]
  },
  {
   "cell_type": "code",
   "execution_count": 13,
   "metadata": {},
   "outputs": [
    {
     "name": "stdout",
     "output_type": "stream",
     "text": [
      "Empty DataFrame\n",
      "Columns: []\n",
      "Index: []\n"
     ]
    },
    {
     "ename": "KeyError",
     "evalue": "'pnl'",
     "output_type": "error",
     "traceback": [
      "\u001b[31m---------------------------------------------------------------------------\u001b[39m",
      "\u001b[31mKeyError\u001b[39m                                  Traceback (most recent call last)",
      "\u001b[36mCell\u001b[39m\u001b[36m \u001b[39m\u001b[32mIn[13]\u001b[39m\u001b[32m, line 3\u001b[39m\n\u001b[32m      1\u001b[39m blotter = tracker.get_blotter()  \u001b[38;5;66;03m# DataFrame with columns: timestamp, symbol, side, qty, price, pnl\u001b[39;00m\n\u001b[32m      2\u001b[39m \u001b[38;5;28mprint\u001b[39m(blotter.head())\n\u001b[32m----> \u001b[39m\u001b[32m3\u001b[39m blotter[\u001b[33m\"\u001b[39m\u001b[33mcum_pnl\u001b[39m\u001b[33m\"\u001b[39m] = \u001b[43mblotter\u001b[49m\u001b[43m[\u001b[49m\u001b[33;43m\"\u001b[39;49m\u001b[33;43mpnl\u001b[39;49m\u001b[33;43m\"\u001b[39;49m\u001b[43m]\u001b[49m.cumsum()\n\u001b[32m      4\u001b[39m blotter.set_index(\u001b[33m\"\u001b[39m\u001b[33mtimestamp\u001b[39m\u001b[33m\"\u001b[39m)[\u001b[33m\"\u001b[39m\u001b[33mcum_pnl\u001b[39m\u001b[33m\"\u001b[39m].plot(figsize=(\u001b[32m10\u001b[39m,\u001b[32m5\u001b[39m), title=\u001b[33m\"\u001b[39m\u001b[33mEquity Curve\u001b[39m\u001b[33m\"\u001b[39m)\n",
      "\u001b[36mFile \u001b[39m\u001b[32m~/Documents/quantfin/venv/lib/python3.13/site-packages/pandas/core/frame.py:4107\u001b[39m, in \u001b[36mDataFrame.__getitem__\u001b[39m\u001b[34m(self, key)\u001b[39m\n\u001b[32m   4105\u001b[39m \u001b[38;5;28;01mif\u001b[39;00m \u001b[38;5;28mself\u001b[39m.columns.nlevels > \u001b[32m1\u001b[39m:\n\u001b[32m   4106\u001b[39m     \u001b[38;5;28;01mreturn\u001b[39;00m \u001b[38;5;28mself\u001b[39m._getitem_multilevel(key)\n\u001b[32m-> \u001b[39m\u001b[32m4107\u001b[39m indexer = \u001b[38;5;28;43mself\u001b[39;49m\u001b[43m.\u001b[49m\u001b[43mcolumns\u001b[49m\u001b[43m.\u001b[49m\u001b[43mget_loc\u001b[49m\u001b[43m(\u001b[49m\u001b[43mkey\u001b[49m\u001b[43m)\u001b[49m\n\u001b[32m   4108\u001b[39m \u001b[38;5;28;01mif\u001b[39;00m is_integer(indexer):\n\u001b[32m   4109\u001b[39m     indexer = [indexer]\n",
      "\u001b[36mFile \u001b[39m\u001b[32m~/Documents/quantfin/venv/lib/python3.13/site-packages/pandas/core/indexes/range.py:417\u001b[39m, in \u001b[36mRangeIndex.get_loc\u001b[39m\u001b[34m(self, key)\u001b[39m\n\u001b[32m    415\u001b[39m         \u001b[38;5;28;01mraise\u001b[39;00m \u001b[38;5;167;01mKeyError\u001b[39;00m(key) \u001b[38;5;28;01mfrom\u001b[39;00m\u001b[38;5;250m \u001b[39m\u001b[34;01merr\u001b[39;00m\n\u001b[32m    416\u001b[39m \u001b[38;5;28;01mif\u001b[39;00m \u001b[38;5;28misinstance\u001b[39m(key, Hashable):\n\u001b[32m--> \u001b[39m\u001b[32m417\u001b[39m     \u001b[38;5;28;01mraise\u001b[39;00m \u001b[38;5;167;01mKeyError\u001b[39;00m(key)\n\u001b[32m    418\u001b[39m \u001b[38;5;28mself\u001b[39m._check_indexing_error(key)\n\u001b[32m    419\u001b[39m \u001b[38;5;28;01mraise\u001b[39;00m \u001b[38;5;167;01mKeyError\u001b[39;00m(key)\n",
      "\u001b[31mKeyError\u001b[39m: 'pnl'"
     ]
    }
   ],
   "source": [
    "blotter = tracker.get_blotter()  # DataFrame with columns: timestamp, symbol, side, qty, price, pnl\n",
    "print(blotter.head())\n",
    "blotter[\"cum_pnl\"] = blotter[\"pnl\"].cumsum()\n",
    "blotter.set_index(\"timestamp\")[\"cum_pnl\"].plot(figsize=(10,5), title=\"Equity Curve\")"
   ]
  },
  {
   "cell_type": "code",
   "execution_count": null,
   "metadata": {},
   "outputs": [],
   "source": [
    "print(f\"**Total Return:**  {metrics[\"total_return\"]:.2%}\")  \n",
    "print(f\"**Max Drawdown:**  {metrics[\"max_drawdown\"]:.2%}\")  \n",
    "print(f\"**Sharpe Ratio:**  {metrics[\"sharpe_ratio\"]:.2f}\")"
   ]
  }
 ],
 "metadata": {
  "kernelspec": {
   "display_name": "venv",
   "language": "python",
   "name": "python3"
  },
  "language_info": {
   "codemirror_mode": {
    "name": "ipython",
    "version": 3
   },
   "file_extension": ".py",
   "mimetype": "text/x-python",
   "name": "python",
   "nbconvert_exporter": "python",
   "pygments_lexer": "ipython3",
   "version": "3.13.5"
  }
 },
 "nbformat": 4,
 "nbformat_minor": 2
}
