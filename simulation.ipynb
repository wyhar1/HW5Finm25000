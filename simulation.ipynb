{
 "cells": [
  {
   "cell_type": "code",
   "execution_count": 137,
   "metadata": {},
   "outputs": [],
   "source": [
    "from market_data_loader import MarketDataLoader\n",
    "from order import Order\n",
    "from order import risk_params\n",
    "from oms import OrderManagementSystem\n",
    "from order_book import LimitOrderBook\n",
    "from position_tracker import PositionTracker\n",
    "from strategies.trend_following   import run_backtest as tf_backtest\n",
    "from strategies.mean_reversion    import run_backtest as mr_backtest\n",
    "from strategies.arbitrage         import run_backtest as arb_backtest\n",
    "import uuid\n",
    "\n",
    "loader  = MarketDataLoader(interval=\"5m\", period=\"1mo\")\n",
    "oms     = OrderManagementSystem()\n",
    "tracker = PositionTracker()\n",
    "book    = LimitOrderBook(\"AAPL\")\n",
    "\n",
    "rp = risk_params()"
   ]
  },
  {
   "cell_type": "code",
   "execution_count": 149,
   "metadata": {
    "scrolled": true
   },
   "outputs": [
    {
     "name": "stderr",
     "output_type": "stream",
     "text": [
      "[*********************100%***********************]  1 of 1 completed\n"
     ]
    }
   ],
   "source": [
    "signals, trades, metrics = tf_backtest(\"AAPL\", loader, risk_params, short_win=10, long_win=50)"
   ]
  },
  {
   "cell_type": "code",
   "execution_count": 165,
   "metadata": {},
   "outputs": [],
   "source": [
    "\"\"\"\n",
    "Remember, our trades need a counter-order, even in the tracker. So we have to make them up again here. \n",
    "\"\"\"\n",
    "trades_list = []\n",
    "\n",
    "for trade in trades:\n",
    "    #Real order\n",
    "    order = Order(\n",
    "        id=f\"REPLAY-{trade['order_id']}\",\n",
    "        symbol=trade[\"symbol\"],\n",
    "        side=trade[\"side\"],\n",
    "        quantity=trade[\"filled_qty\"],\n",
    "        type=\"market\",  # or \"limit\" if needed\n",
    "        price=trade[\"price\"],\n",
    "        timestamp=trade[\"timestamp\"]\n",
    "    )\n",
    "\n",
    "    counter_order = Order(\n",
    "        id=f\"FAKE-{trade['order_id']}\",\n",
    "        symbol=trade[\"symbol\"],\n",
    "        side=\"buy\" if trade[\"side\"] == \"sell\" else \"sell\",\n",
    "        quantity=trade[\"filled_qty\"],\n",
    "        type=\"limit\",\n",
    "        price=trade[\"price\"],\n",
    "        timestamp=trade[\"timestamp\"]\n",
    "    )\n",
    "\n",
    "    book.add_order(counter_order)\n",
    "\n",
    "    oms.new_order(order)\n",
    "    exec_reports = book.add_order(order)\n",
    "\n",
    "    for rpt in exec_reports:\n",
    "        if str(rpt[\"order_id\"]).startswith(\"FAKE\"):\n",
    "            continue\n",
    "        tracker.update(rpt)\n",
    "        trades_list.append(rpt.copy())\n"
   ]
  },
  {
   "cell_type": "code",
   "execution_count": 180,
   "metadata": {},
   "outputs": [
    {
     "data": {
      "image/png": "[encoded data removed]",
      "text/plain": [
       "<Figure size 1000x500 with 1 Axes>"
      ]
     },
     "metadata": {},
     "output_type": "display_data"
    },
    {
     "name": "stdout",
     "output_type": "stream",
     "text": [
      "                   timestamp symbol  side  quantity       price     cash_flow\n",
      "0 2025-07-31 02:17:29.590218   AAPL  sell     50000  214.274994  1.071375e+07\n",
      "1 2025-07-31 02:18:25.977495   AAPL  sell     50000  213.759995  1.068800e+07\n",
      "2 2025-07-31 02:18:25.977649   AAPL  sell     50000  212.559998  1.062800e+07\n",
      "3 2025-07-31 02:18:25.977771   AAPL  sell     50000  210.839996  1.054200e+07\n",
      "4 2025-07-31 02:18:25.977799   AAPL   buy     50000  211.589996 -1.057950e+07\n"
     ]
    }
   ],
   "source": [
    "import pandas as pd\n",
    "import matplotlib.pyplot as plt\n",
    "\n",
    "blotter_df = tracker.get_blotter()\n",
    "blotter_df[\"timestamp\"] = pd.to_datetime(blotter_df[\"timestamp\"])\n",
    "blotter_df = blotter_df.sort_values(\"timestamp\")\n",
    "starting_cash = tracker.cash - blotter_df[\"cash_flow\"].sum()\n",
    "blotter_df[\"equity\"] = blotter_df[\"cash_flow\"].cumsum() + starting_cash\n",
    "\n",
    "# Plot\n",
    "plt.figure(figsize=(10, 5))\n",
    "plt.plot(blotter_df[\"timestamp\"], blotter_df[\"equity\"], label=\"PnL\")\n",
    "plt.xlabel(\"Time\")\n",
    "plt.ylabel(\"Equity (PnL)\")\n",
    "plt.title(\"PnL Growth Over Time\")\n",
    "plt.legend()\n",
    "plt.grid(True)\n",
    "plt.show()\n",
    "\n",
    "print(blotter.head())\n",
    "\n",
    "#? Broken??? Blotter doesn't contain pnl\n",
    "#blotter[\"cum_pnl\"] = blotter[\"pnl\"].cumsum()\n",
    "#blotter.set_index(\"timestamp\")[\"cum_pnl\"].plot(figsize=(10,5), title=\"Equity Curve\")"
   ]
  },
  {
   "cell_type": "code",
   "execution_count": 182,
   "metadata": {},
   "outputs": [
    {
     "name": "stdout",
     "output_type": "stream",
     "text": [
      "**Total Return:**  13.53%\n",
      "**Max Drawdown:**  -1098789367.68%\n",
      "**Sharpe Ratio:**  0.32\n",
      "Find github repo at: https://github.com/wyhar1/HW5Finm25000/\n"
     ]
    }
   ],
   "source": [
    "print(f\"**Total Return:**  {metrics[\"total_return\"]:.2%}\")  \n",
    "print(f\"**Max Drawdown:**  {metrics[\"max_drawdown\"]:.2%}\")  \n",
    "print(f\"**Sharpe Ratio:**  {metrics[\"sharpe_ratio\"]:.2f}\")\n",
    "print(\"Find github repo at: https://github.com/wyhar1/HW5Finm25000/\")"
   ]
  }
 ],
 "metadata": {
  "kernelspec": {
   "display_name": "Python 3 (ipykernel)",
   "language": "python",
   "name": "python3"
  },
  "language_info": {
   "codemirror_mode": {
    "name": "ipython",
    "version": 3
   },
   "file_extension": ".py",
   "mimetype": "text/x-python",
   "name": "python",
   "nbconvert_exporter": "python",
   "pygments_lexer": "ipython3",
   "version": "3.12.4"
  }
 },
 "nbformat": 4,
 "nbformat_minor": 4
}
